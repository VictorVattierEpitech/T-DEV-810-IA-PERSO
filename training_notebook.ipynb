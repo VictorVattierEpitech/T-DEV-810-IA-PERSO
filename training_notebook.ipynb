{
  "cells": [
    {
      "cell_type": "markdown",
      "source": [
        "## Téléchargement du dataset (depuis google drive)"
      ],
      "metadata": {
        "id": "oFL71aLTPpm-"
      }
    },
    {
      "cell_type": "code",
      "execution_count": 1,
      "metadata": {
        "colab": {
          "base_uri": "https://localhost:8080/"
        },
        "id": "ohEaPASuw8Xv",
        "outputId": "37243d0e-8d64-4a6d-8846-17a752434fe3"
      },
      "outputs": [
        {
          "output_type": "stream",
          "name": "stdout",
          "text": [
            "Drive already mounted at /content/drive; to attempt to forcibly remount, call drive.mount(\"/content/drive\", force_remount=True).\n",
            "Fichier copié avec succès.\n"
          ]
        }
      ],
      "source": [
        "from google.colab import drive\n",
        "drive.mount('/content/drive')\n",
        "\n",
        "import shutil\n",
        "\n",
        "source_file = '/content/drive/MyDrive/CheXpert-v1.0-small.zip'\n",
        "destination = '/content/CheXpert-v1.0-small.zip'\n",
        "\n",
        "shutil.copy(source_file, destination)\n",
        "print(\"Fichier copié avec succès.\")\n"
      ]
    },
    {
      "cell_type": "markdown",
      "source": [
        "## On dézip le fichier"
      ],
      "metadata": {
        "id": "zMFSHP0WPzBP"
      }
    },
    {
      "cell_type": "code",
      "execution_count": 2,
      "metadata": {
        "colab": {
          "base_uri": "https://localhost:8080/"
        },
        "id": "8oD7fkh8wlTE",
        "outputId": "d129bdf6-42c1-4f46-c1a9-7e953ec9c7d7"
      },
      "outputs": [
        {
          "output_type": "execute_result",
          "data": {
            "text/plain": [
              "['CheXpert-v1.0-small']"
            ]
          },
          "metadata": {},
          "execution_count": 2
        }
      ],
      "source": [
        "import zipfile\n",
        "import os\n",
        "\n",
        "zip_path = \"CheXpert-v1.0-small.zip\"\n",
        "extract_to = \"CheXpert-v1.0-small\"\n",
        "\n",
        "with zipfile.ZipFile(zip_path, 'r') as zip_ref:\n",
        "    zip_ref.extractall(extract_to)\n",
        "\n",
        "os.listdir(extract_to)\n"
      ]
    },
    {
      "cell_type": "markdown",
      "source": [
        "## On supprime le dossier en trop"
      ],
      "metadata": {
        "id": "rwT8X40KP6Vs"
      }
    },
    {
      "cell_type": "code",
      "execution_count": 3,
      "metadata": {
        "colab": {
          "base_uri": "https://localhost:8080/"
        },
        "id": "XBgd_xw6ytFi",
        "outputId": "fd7ffe42-9c6a-459e-cd79-2c542ab07b7c"
      },
      "outputs": [
        {
          "output_type": "stream",
          "name": "stdout",
          "text": [
            "Le sous-dossier a été déplacé et supprimé avec succès.\n"
          ]
        }
      ],
      "source": [
        "import os\n",
        "import shutil\n",
        "\n",
        "parent_folder = \"CheXpert-v1.0-small\"\n",
        "subfolder = os.path.join(parent_folder, \"CheXpert-v1.0-small\")\n",
        "\n",
        "for item in os.listdir(subfolder):\n",
        "    src_path = os.path.join(subfolder, item)\n",
        "    dst_path = os.path.join(parent_folder, item)\n",
        "    shutil.move(src_path, dst_path)\n",
        "\n",
        "shutil.rmtree(subfolder)\n",
        "print(\"Le sous-dossier a été déplacé et supprimé avec succès.\")\n"
      ]
    },
    {
      "cell_type": "code",
      "source": [
        "!rm -rf outputs/"
      ],
      "metadata": {
        "id": "5Fmoa3SUsRm7"
      },
      "execution_count": null,
      "outputs": []
    },
    {
      "cell_type": "markdown",
      "source": [
        "## On entraine"
      ],
      "metadata": {
        "id": "wsulu9zBcnxQ"
      }
    },
    {
      "cell_type": "code",
      "execution_count": 5,
      "metadata": {
        "colab": {
          "base_uri": "https://localhost:8080/"
        },
        "id": "tCBu_eal5Yl0",
        "outputId": "7755f025-6f53-4cac-a52c-156bf7dee04e"
      },
      "outputs": [
        {
          "output_type": "stream",
          "name": "stdout",
          "text": [
            "2025-05-12 12:40:34,229 INFO 🚀 Début de l'entraînement!\n",
            "Train Ép1/10: 100% 522/522 [04:05<00:00,  2.12it/s]\n",
            "Val   Ép1/10: 100% 112/112 [00:21<00:00,  5.29it/s]\n",
            "2025-05-12 12:45:02,321 INFO Ép1 | train 0.5941 | val 0.5361 | Acc 0.8992 | Prec 0.8889 | Rec 0.8742 | F1 0.8809 | Durée 268.1s\n",
            "2025-05-12 12:45:02,424 INFO 🏆 Meilleur modèle sauvegardé\n",
            "Train Ép2/10: 100% 522/522 [04:00<00:00,  2.17it/s]\n",
            "Val   Ép2/10: 100% 112/112 [00:21<00:00,  5.33it/s]\n",
            "2025-05-12 12:49:24,345 INFO Ép2 | train 0.5353 | val 0.5946 | Acc 0.8984 | Prec 0.8905 | Rec 0.8700 | F1 0.8791 | Durée 261.9s\n",
            "Train Ép3/10: 100% 522/522 [03:59<00:00,  2.18it/s]\n",
            "Val   Ép3/10: 100% 112/112 [00:21<00:00,  5.30it/s]\n",
            "2025-05-12 12:53:45,545 INFO Ép3 | train 0.5313 | val 0.5311 | Acc 0.8991 | Prec 0.8926 | Rec 0.8693 | F1 0.8795 | Durée 261.2s\n",
            "2025-05-12 12:53:45,669 INFO 🏆 Meilleur modèle sauvegardé\n",
            "Train Ép4/10: 100% 522/522 [04:00<00:00,  2.17it/s]\n",
            "Val   Ép4/10: 100% 112/112 [00:21<00:00,  5.20it/s]\n",
            "2025-05-12 12:58:07,452 INFO Ép4 | train 0.5219 | val 0.6832 | Acc 0.8893 | Prec 0.8825 | Rec 0.8556 | F1 0.8671 | Durée 261.8s\n",
            "Train Ép5/10: 100% 522/522 [04:00<00:00,  2.17it/s]\n",
            "Val   Ép5/10: 100% 112/112 [00:21<00:00,  5.33it/s]\n",
            "2025-05-12 13:02:28,785 INFO Ép5 | train 0.5097 | val 0.5234 | Acc 0.9010 | Prec 0.8910 | Rec 0.8762 | F1 0.8830 | Durée 261.3s\n",
            "2025-05-12 13:02:28,903 INFO 🏆 Meilleur modèle sauvegardé\n",
            "Train Ép6/10: 100% 522/522 [04:00<00:00,  2.17it/s]\n",
            "Val   Ép6/10: 100% 112/112 [00:21<00:00,  5.27it/s]\n",
            "2025-05-12 13:06:50,943 INFO Ép6 | train 0.4951 | val 0.4961 | Acc 0.9010 | Prec 0.8932 | Rec 0.8737 | F1 0.8824 | Durée 262.0s\n",
            "2025-05-12 13:06:51,060 INFO 🏆 Meilleur modèle sauvegardé\n",
            "Train Ép7/10: 100% 522/522 [03:59<00:00,  2.18it/s]\n",
            "Val   Ép7/10: 100% 112/112 [00:21<00:00,  5.24it/s]\n",
            "2025-05-12 13:11:12,633 INFO Ép7 | train 0.4765 | val 0.5116 | Acc 0.9005 | Prec 0.8877 | Rec 0.8796 | F1 0.8834 | Durée 261.6s\n",
            "Train Ép8/10: 100% 522/522 [04:00<00:00,  2.17it/s]\n",
            "Val   Ép8/10: 100% 112/112 [00:20<00:00,  5.38it/s]\n",
            "2025-05-12 13:15:34,123 INFO Ép8 | train 0.4489 | val 0.4934 | Acc 0.9025 | Prec 0.8934 | Rec 0.8773 | F1 0.8846 | Durée 261.5s\n",
            "2025-05-12 13:15:34,245 INFO 🏆 Meilleur modèle sauvegardé\n",
            "Train Ép9/10: 100% 522/522 [04:00<00:00,  2.17it/s]\n",
            "Val   Ép9/10: 100% 112/112 [00:21<00:00,  5.26it/s]\n",
            "2025-05-12 13:19:56,049 INFO Ép9 | train 0.4111 | val 0.4833 | Acc 0.9028 | Prec 0.8959 | Rec 0.8751 | F1 0.8844 | Durée 261.8s\n",
            "2025-05-12 13:19:56,172 INFO 🏆 Meilleur modèle sauvegardé\n",
            "Train Ép10/10: 100% 522/522 [04:00<00:00,  2.17it/s]\n",
            "Val   Ép10/10: 100% 112/112 [00:21<00:00,  5.18it/s]\n",
            "2025-05-12 13:24:18,832 INFO Ép10 | train 0.3786 | val 0.4931 | Acc 0.9026 | Prec 0.8962 | Rec 0.8742 | F1 0.8840 | Durée 262.7s\n",
            "2025-05-12 13:24:18,930 INFO ✅ Entraînement terminé!\n"
          ]
        }
      ],
      "source": [
        "!python train.py"
      ]
    },
    {
      "cell_type": "markdown",
      "source": [
        "## On test"
      ],
      "metadata": {
        "id": "_vJTB9yVcqeX"
      }
    },
    {
      "cell_type": "code",
      "source": [
        "!python evaluate.py"
      ],
      "metadata": {
        "colab": {
          "base_uri": "https://localhost:8080/"
        },
        "id": "1NVcp2G0i9Ys",
        "outputId": "1b54b24b-066d-42c3-e6ca-06372110a069"
      },
      "execution_count": 11,
      "outputs": [
        {
          "output_type": "stream",
          "name": "stdout",
          "text": [
            "2025-05-12 13:52:21,346 INFO ⚙️  Lancement de l'évaluation du meilleur modèle\n",
            "2025-05-12 13:52:21,614 INFO ✅ 33547 échantillons de test chargés\n",
            "2025-05-12 13:52:21,690 INFO ℹ️  DataLoader de test prêt (112 batches)\n",
            "2025-05-12 13:52:22,245 INFO 📦 Modèle chargé en mémoire\n",
            "2025-05-12 13:52:22,245 INFO 🔮 Prédictions en cours...\n",
            "Itération test: 100% 112/112 [00:22<00:00,  4.88it/s]\n",
            "2025-05-12 13:52:45,185 INFO ✅ Prédictions terminées\n",
            "2025-05-12 13:52:45,190 INFO 📊 Rapport de classification par pathologie (labels valides)\n",
            "Classe                         Précision  Rappel  F1-score  Support\n",
            "No Finding                         0.99    1.00       1.00      3271\n",
            "Enlarged Cardiomediastinum         0.75    0.56       0.64      4740\n",
            "Cardiomegaly                       0.86    0.90       0.88      5692\n",
            "Lung Opacity                       0.94    1.00       0.97     17023\n",
            "Lung Lesion                        0.84    1.00       0.91      1593\n",
            "Edema                              0.91    1.00       0.95     33547\n",
            "Consolidation                      0.88    0.99       0.93     33547\n",
            "Pneumonia                          0.99    1.00       0.99     33547\n",
            "Atelectasis                        0.49    0.02       0.03     33547\n",
            "Pneumothorax                       0.62    0.40       0.49     33547\n",
            "Pleural Effusion                   0.87    0.97       0.92     33547\n",
            "Pleural Other                      0.86    1.00       0.93       629\n",
            "Fracture                           0.77    0.99       0.87      1665\n",
            "Support Devices                    0.95    1.00       0.97     18340\n",
            "2025-05-12 13:52:45,325 INFO \n",
            "Classe                         Précision  Rappel  F1-score  Support\n",
            "No Finding                         0.99    1.00       1.00      3271\n",
            "Enlarged Cardiomediastinum         0.75    0.56       0.64      4740\n",
            "Cardiomegaly                       0.86    0.90       0.88      5692\n",
            "Lung Opacity                       0.94    1.00       0.97     17023\n",
            "Lung Lesion                        0.84    1.00       0.91      1593\n",
            "Edema                              0.91    1.00       0.95     33547\n",
            "Consolidation                      0.88    0.99       0.93     33547\n",
            "Pneumonia                          0.99    1.00       0.99     33547\n",
            "Atelectasis                        0.49    0.02       0.03     33547\n",
            "Pneumothorax                       0.62    0.40       0.49     33547\n",
            "Pleural Effusion                   0.87    0.97       0.92     33547\n",
            "Pleural Other                      0.86    1.00       0.93       629\n",
            "Fracture                           0.77    0.99       0.87      1665\n",
            "Support Devices                    0.95    1.00       0.97     18340\n",
            "Global Acc: 0.9021 | Prec: 0.8370 | Rec:  0.8449 | F1:   0.8199\n",
            "2025-05-12 13:52:45,472 INFO Global Acc: 0.9021 | Prec: 0.8370 | Rec:  0.8449 | F1:   0.8199\n",
            "2025-05-12 13:52:45,473 INFO 🔢 Generation des matrices de confusion 2×2 par classe\n",
            "2025-05-12 13:52:49,496 INFO 💾 Matrices de confusion par classe sauvegardées: outputs/figures/confusion_per_class.png\n",
            "2025-05-12 13:52:49,496 INFO 🎉 Évaluation terminée !\n"
          ]
        }
      ]
    }
  ],
  "metadata": {
    "accelerator": "GPU",
    "colab": {
      "gpuType": "A100",
      "machine_shape": "hm",
      "provenance": []
    },
    "kernelspec": {
      "display_name": "Python 3",
      "name": "python3"
    },
    "language_info": {
      "name": "python"
    }
  },
  "nbformat": 4,
  "nbformat_minor": 0
}